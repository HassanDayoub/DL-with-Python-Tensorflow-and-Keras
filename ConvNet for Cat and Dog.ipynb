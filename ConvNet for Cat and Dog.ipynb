{
 "cells": [
  {
   "cell_type": "code",
   "execution_count": 7,
   "metadata": {},
   "outputs": [
    {
     "name": "stdout",
     "output_type": "stream",
     "text": [
      "Train on 22451 samples, validate on 2495 samples\n",
      "Epoch 1/5\n",
      "22451/22451 [==============================] - 195s 9ms/step - loss: 0.6352 - acc: 0.6368 - val_loss: 0.5601 - val_acc: 0.7198\n",
      "Epoch 2/5\n",
      "22451/22451 [==============================] - 209s 9ms/step - loss: 0.5554 - acc: 0.7191 - val_loss: 0.5370 - val_acc: 0.7267\n",
      "Epoch 3/5\n",
      "22451/22451 [==============================] - 208s 9ms/step - loss: 0.5170 - acc: 0.7463 - val_loss: 0.5239 - val_acc: 0.7415\n",
      "Epoch 4/5\n",
      "22451/22451 [==============================] - 207s 9ms/step - loss: 0.4888 - acc: 0.7666 - val_loss: 0.4910 - val_acc: 0.7655\n",
      "Epoch 5/5\n",
      "22451/22451 [==============================] - 201s 9ms/step - loss: 0.4646 - acc: 0.7792 - val_loss: 0.5345 - val_acc: 0.7503\n"
     ]
    },
    {
     "data": {
      "text/plain": [
       "<tensorflow.python.keras.callbacks.History at 0x174efbc9da0>"
      ]
     },
     "execution_count": 7,
     "metadata": {},
     "output_type": "execute_result"
    }
   ],
   "source": [
    "import tensorflow as tf\n",
    "from tensorflow.keras.models import Sequential\n",
    "from tensorflow.keras.layers import Dense , Dropout, Activation , Flatten , Conv2D , MaxPooling2D\n",
    "\n",
    "import pickle\n",
    "\n",
    "x = pickle.load(open(\"x.pickle\",\"rb\"))\n",
    "y = pickle.load(open(\"y.pickle\",\"rb\"))\n",
    "\n",
    "x = x/255.0\n",
    "\n",
    "model = Sequential()\n",
    "model.add(Conv2D(64,(3,3),input_shape = x.shape[1:]))\n",
    "model.add(Activation(\"relu\"))\n",
    "model.add(MaxPooling2D(pool_size = (2,2)))\n",
    "\n",
    "model.add(Conv2D(64,(3,3)))\n",
    "model.add(Activation(\"relu\"))\n",
    "model.add(MaxPooling2D(pool_size = (2,2)))\n",
    "\n",
    "model.add(Flatten())\n",
    "model.add(Dense(64))\n",
    "\n",
    "model.add(Dense(1))\n",
    "model.add(Activation(\"sigmoid\")) \n",
    "\n",
    "model.compile(loss = \"binary_crossentropy\",optimizer=\"adam\"\n",
    "             ,metrics=['accuracy'])\n",
    "\n",
    "model.fit(x , y , batch_size = 32 ,epochs=5, validation_split = 0.1) \n"
   ]
  },
  {
   "cell_type": "code",
   "execution_count": null,
   "metadata": {},
   "outputs": [],
   "source": [
    "\n"
   ]
  }
 ],
 "metadata": {
  "kernelspec": {
   "display_name": "Python 3",
   "language": "python",
   "name": "python3"
  },
  "language_info": {
   "codemirror_mode": {
    "name": "ipython",
    "version": 3
   },
   "file_extension": ".py",
   "mimetype": "text/x-python",
   "name": "python",
   "nbconvert_exporter": "python",
   "pygments_lexer": "ipython3",
   "version": "3.6.6"
  }
 },
 "nbformat": 4,
 "nbformat_minor": 2
}
